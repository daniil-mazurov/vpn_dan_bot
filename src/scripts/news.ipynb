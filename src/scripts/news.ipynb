{
 "cells": [
  {
   "cell_type": "code",
   "execution_count": 7,
   "metadata": {},
   "outputs": [],
   "source": [
    "from datetime import date\n",
    "\n",
    "news = []"
   ]
  },
  {
   "cell_type": "code",
   "execution_count": 8,
   "metadata": {},
   "outputs": [],
   "source": [
    "news.append(\n",
    "    {\n",
    "        \"date\": date(2024, 11, 1),\n",
    "        \"title\": \"Запуск сервиса в тестовом режиме\",\n",
    "        \"excerpt\": \"Уважаемый пользователь, сейчас наш сервис находится на стадии тестирования. \"\n",
    "        \"Если вы столкнетесь с какой-либо проблемой в работе сервиса, пожалуйста воспользуйтесь командой /bug и сообщите нам о ней.\",\n",
    "        \"content_title\": \"🚀 Первый запуск! Полет нормальный.\",\n",
    "        \"content\": \"news1.docx\",\n",
    "    }\n",
    ")"
   ]
  },
  {
   "cell_type": "code",
   "execution_count": 9,
   "metadata": {},
   "outputs": [],
   "source": [
    "news.append(\n",
    "    {\n",
    "        \"date\": date(2024, 11, 11),\n",
    "        \"title\": \"Помоги сервису и получи месяц VPN бесплатно\",\n",
    "        \"excerpt\": \"Уникальная акция! Пользователи, нашедшие баг в работе сервиса и(или) отправившие предложения по разработке, получают 100 рублей на счет или 1 месяц бесплатного пользования сервисом по базовому тарифу!🤑\",\n",
    "        \"content_title\": \"Помоги сервису и получи месяц VPN бесплатно\",\n",
    "        \"content\": \"news2.docx\",\n",
    "    }\n",
    ")"
   ]
  },
  {
   "cell_type": "code",
   "execution_count": 10,
   "metadata": {},
   "outputs": [
    {
     "data": {
      "text/markdown": [
       "__Дорогие пользователи\\! Мы рады сообщить, что наш VPN сервис успешно запущен и сейчас работает в тестовом режиме\\! 🎉__\n",
       "\n",
       "- Мы стремимся предоставить вам надежное и безопасное соединение, и на этом этапе мы будем внимательно следить за работой сервиса, чтобы устранить любые возможные проблемы\\.\n",
       "- Пожалуйста, делитесь своими впечатлениями и сообщайте о любых замеченных ошибках\\. Для этого воспользуйтесь [ссылкой](http://assa.ddns.net/bot/bug/create) либо командой \\` [/bug](https://t.me/vpn_dan_bot)\\` в нашем чат\\-боте\\. Ваши отзывы помогут нам улучшить наш сервис\\!\n",
       "\n"
      ],
      "text/plain": [
       "<IPython.core.display.Markdown object>"
      ]
     },
     "metadata": {},
     "output_type": "display_data"
    },
    {
     "data": {
      "text/markdown": [
       "__Уникальная акция\\!__ \n",
       "\n",
       "Пользователи:\n",
       "\n",
       "- нашедшие баг в работе сервиса и сообщившие об этом нам \n",
       "- отправившие предложения по разработке, которые будут приняты и внедрены\n",
       "\n",
       "ПОЛУЧАЮТ 100 рублей на счет или 1 месяц __бесплатного пользования сервисом__ по базовому тарифу\\! 🤑\n",
       "\n",
       "Сообщить о баге или предложении по разработке можно воспользовавшись [ссылкой](http://assa.ddns.net/bot/bug/create) либо командой \\` [/bug](https://t.me/vpn_dan_bot)\\`\n",
       "\n"
      ],
      "text/plain": [
       "<IPython.core.display.Markdown object>"
      ]
     },
     "metadata": {},
     "output_type": "display_data"
    },
    {
     "data": {
      "text/plain": [
       "[<News id=17, date=2024-11-01, title=Запуск сервиса в тестовом режиме, excerpt=Уважаемый пользователь, сейчас наш сервис находится на стадии тестирования. Если вы столкнетесь с какой-либо проблемой в работе сервиса, пожалуйста воспользуйтесь командой /bug и сообщите нам о ней., content_title=🚀 Первый запуск! Полет нормальный., content=<p><strong>Дорогие пользователи! Мы рады сообщить, что наш VPN сервис успешно запущен и сейчас работает в тестовом режиме! 🎉</strong></p><ul><li>Мы стремимся предоставить вам надежное и безопасное соединение, и на этом этапе мы будем внимательно следить за работой сервиса, чтобы устранить любые возможные проблемы.</li><li>Пожалуйста, делитесь своими впечатлениями и сообщайте о любых замеченных ошибках. Для этого воспользуйтесь <a href=\"http://assa.ddns.net/bot/bug/create\">ссылкой</a> либо командой ` <a href=\"https://t.me/vpn_dan_bot\">/bug</a>` в нашем чат-боте. Ваши отзывы помогут нам улучшить наш сервис!</li></ul>>,\n",
       " <News id=18, date=2024-11-11, title=Помоги сервису и получи месяц VPN бесплатно, excerpt=Уникальная акция! Пользователи, нашедшие баг в работе сервиса и(или) отправившие предложения по разработке, получают 100 рублей на счет или 1 месяц бесплатного пользования сервисом по базовому тарифу!🤑, content_title=Помоги сервису и получи месяц VPN бесплатно, content=<p><strong>Уникальная акция!</strong> </p><p>Пользователи:</p><ul><li>нашедшие баг в работе сервиса и сообщившие об этом нам </li><li>отправившие предложения по разработке, которые будут приняты и внедрены</li></ul><p>ПОЛУЧАЮТ 100 рублей на счет или 1 месяц <strong>бесплатного пользования сервисом</strong> по базовому тарифу! 🤑</p><p>Сообщить о баге или предложении по разработке можно воспользовавшись <a href=\"http://assa.ddns.net/bot/bug/create\">ссылкой</a> либо командой ` <a href=\"https://t.me/vpn_dan_bot\">/bug</a>`</p>>]"
      ]
     },
     "execution_count": 10,
     "metadata": {},
     "output_type": "execute_result"
    }
   ],
   "source": [
    "import os\n",
    "import sys\n",
    "\n",
    "from IPython.display import Markdown, display\n",
    "\n",
    "from mammoth import convert_to_html, convert_to_markdown\n",
    "\n",
    "\n",
    "# sys.path.insert(1, os.path.join(\"/home/bot/code/vpn_dan_bot/src\"))\n",
    "sys.path.insert(1, os.path.join(\"C:\\\\code\\\\vpn_dan_bot\\\\src\"))\n",
    "\n",
    "from core.path import PATH\n",
    "from db.utils import add_news\n",
    "\n",
    "\n",
    "news_folder = os.path.join(PATH, \"src\", \"scripts\", \"news\")\n",
    "\n",
    "for new in news:\n",
    "    with open(os.path.join(\"news\", new[\"content\"]), \"rb\") as infile:\n",
    "        document = convert_to_html(infile)\n",
    "        mark_doc = convert_to_markdown(infile)\n",
    "\n",
    "    new[\"content\"] = document.value\n",
    "\n",
    "    display(Markdown(mark_doc.value))\n",
    "\n",
    "await add_news(*news)\n"
   ]
  }
 ],
 "metadata": {
  "kernelspec": {
   "display_name": "vpn-dan-bot-xO4_kg8V-py3.12",
   "language": "python",
   "name": "python3"
  },
  "language_info": {
   "codemirror_mode": {
    "name": "ipython",
    "version": 3
   },
   "file_extension": ".py",
   "mimetype": "text/x-python",
   "name": "python",
   "nbconvert_exporter": "python",
   "pygments_lexer": "ipython3",
   "version": "3.12.7"
  }
 },
 "nbformat": 4,
 "nbformat_minor": 2
}
